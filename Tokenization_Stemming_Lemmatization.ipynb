{
 "cells": [
  {
   "cell_type": "code",
   "execution_count": 1,
   "metadata": {},
   "outputs": [],
   "source": [
    "import nltk"
   ]
  },
  {
   "cell_type": "code",
   "execution_count": 2,
   "metadata": {},
   "outputs": [
    {
     "name": "stdout",
     "output_type": "stream",
     "text": [
      "showing info https://raw.githubusercontent.com/nltk/nltk_data/gh-pages/index.xml\n"
     ]
    },
    {
     "data": {
      "text/plain": [
       "True"
      ]
     },
     "execution_count": 2,
     "metadata": {},
     "output_type": "execute_result"
    }
   ],
   "source": [
    "nltk.download()"
   ]
  },
  {
   "cell_type": "code",
   "execution_count": 2,
   "metadata": {},
   "outputs": [],
   "source": [
    "paragraph=\"\"\"Recently, an exhibition ‘Building A New India’ was held in the capital. \n",
    "It was organized by the Ministry of Information and Broadcasting, Government of India.\n",
    "The exhibition was set up in the Triveni Kala Sangam. The chief exhibits were photographs, novels,\n",
    "some sculptures by Indian modern artists presenting Indian cultural inheritance. First of all, \n",
    "I visited the general section of the exhibition where different charts and photographs depicting \n",
    "India’s development in various fields were set. Most impressive photographs among these were those showing India’s \n",
    "nuclear development. The second section dealt with India’s magnificent historical background. I was fascinated by \n",
    "the pictures of Mohanjodaro excavation. Then I saw the most beautiful and colorful section of the exhibition i.e. \n",
    "the cultural section. It consisted of paintings, sculptures, photographs etc. The Rajasthani and Gujarati paintings\n",
    "were very colourful and attractive. This exhibition, inaugurated by the Prime Minister, lasted for a week. \n",
    "It proved to be of great educational value. It brushed up my knowledge about India as my motherland. \n",
    "It enhanced my respect for my great country, India. I would very much appreciate if the Indian government organized\n",
    "some more such exhibitions.\"\"\""
   ]
  },
  {
   "cell_type": "code",
   "execution_count": 3,
   "metadata": {
    "scrolled": true
   },
   "outputs": [
    {
     "name": "stdout",
     "output_type": "stream",
     "text": [
      "Recently, an exhibition ‘Building A New India’ was held in the capital. \n",
      "It was organized by the Ministry of Information and Broadcasting, Government of India.\n",
      "The exhibition was set up in the Triveni Kala Sangam. The chief exhibits were photographs, novels,\n",
      "some sculptures by Indian modern artists presenting Indian cultural inheritance. First of all, \n",
      "I visited the general section of the exhibition where different charts and photographs depicting \n",
      "India’s development in various fields were set. Most impressive photographs among these were those showing India’s \n",
      "nuclear development. The second section dealt with India’s magnificent historical background. I was fascinated by \n",
      "the pictures of Mohanjodaro excavation. Then I saw the most beautiful and colorful section of the exhibition i.e. \n",
      "the cultural section. It consisted of paintings, sculptures, photographs etc. The Rajasthani and Gujarati paintings\n",
      "were very colourful and attractive. This exhibition, inaugurated by the Prime Minister, lasted for a week. \n",
      "It proved to be of great educational value. It brushed up my knowledge about India as my motherland. \n",
      "It enhanced my respect for my great country, India. I would very much appreciate if the Indian government organized\n",
      "some more such exhibitions.\n"
     ]
    }
   ],
   "source": [
    "print(paragraph)"
   ]
  },
  {
   "cell_type": "markdown",
   "metadata": {},
   "source": [
    "### Senetence Tokenizing"
   ]
  },
  {
   "cell_type": "code",
   "execution_count": 17,
   "metadata": {},
   "outputs": [],
   "source": [
    "sentence=nltk.sent_tokenize(paragraph)"
   ]
  },
  {
   "cell_type": "code",
   "execution_count": 18,
   "metadata": {},
   "outputs": [
    {
     "data": {
      "text/plain": [
       "['Recently, an exhibition ‘Building A New India’ was held in the capital.',\n",
       " 'It was organized by the Ministry of Information and Broadcasting, Government of India.',\n",
       " 'The exhibition was set up in the Triveni Kala Sangam.',\n",
       " 'The chief exhibits were photographs, novels,\\nsome sculptures by Indian modern artists presenting Indian cultural inheritance.',\n",
       " 'First of all, \\nI visited the general section of the exhibition where different charts and photographs depicting \\nIndia’s development in various fields were set.',\n",
       " 'Most impressive photographs among these were those showing India’s \\nnuclear development.',\n",
       " 'The second section dealt with India’s magnificent historical background.',\n",
       " 'I was fascinated by \\nthe pictures of Mohanjodaro excavation.',\n",
       " 'Then I saw the most beautiful and colorful section of the exhibition i.e.',\n",
       " 'the cultural section.',\n",
       " 'It consisted of paintings, sculptures, photographs etc.',\n",
       " 'The Rajasthani and Gujarati paintings\\nwere very colourful and attractive.',\n",
       " 'This exhibition, inaugurated by the Prime Minister, lasted for a week.',\n",
       " 'It proved to be of great educational value.',\n",
       " 'It brushed up my knowledge about India as my motherland.',\n",
       " 'It enhanced my respect for my great country, India.',\n",
       " 'I would very much appreciate if the Indian government organized\\nsome more such exhibitions.']"
      ]
     },
     "execution_count": 18,
     "metadata": {},
     "output_type": "execute_result"
    }
   ],
   "source": [
    "sentence"
   ]
  },
  {
   "cell_type": "markdown",
   "metadata": {},
   "source": [
    "### Word Tokenizing"
   ]
  },
  {
   "cell_type": "code",
   "execution_count": 8,
   "metadata": {},
   "outputs": [],
   "source": [
    "words=nltk.word_tokenize(paragraph)"
   ]
  },
  {
   "cell_type": "code",
   "execution_count": 9,
   "metadata": {
    "collapsed": true
   },
   "outputs": [
    {
     "data": {
      "text/plain": [
       "['Recently',\n",
       " ',',\n",
       " 'an',\n",
       " 'exhibition',\n",
       " '‘',\n",
       " 'Building',\n",
       " 'A',\n",
       " 'New',\n",
       " 'India',\n",
       " '’',\n",
       " 'was',\n",
       " 'held',\n",
       " 'in',\n",
       " 'the',\n",
       " 'capital',\n",
       " '.',\n",
       " 'It',\n",
       " 'was',\n",
       " 'organized',\n",
       " 'by',\n",
       " 'the',\n",
       " 'Ministry',\n",
       " 'of',\n",
       " 'Information',\n",
       " 'and',\n",
       " 'Broadcasting',\n",
       " ',',\n",
       " 'Government',\n",
       " 'of',\n",
       " 'India',\n",
       " '.',\n",
       " 'The',\n",
       " 'exhibition',\n",
       " 'was',\n",
       " 'set',\n",
       " 'up',\n",
       " 'in',\n",
       " 'the',\n",
       " 'Triveni',\n",
       " 'Kala',\n",
       " 'Sangam',\n",
       " '.',\n",
       " 'The',\n",
       " 'chief',\n",
       " 'exhibits',\n",
       " 'were',\n",
       " 'photographs',\n",
       " ',',\n",
       " 'novels',\n",
       " ',',\n",
       " 'some',\n",
       " 'sculptures',\n",
       " 'by',\n",
       " 'Indian',\n",
       " 'modern',\n",
       " 'artists',\n",
       " 'presenting',\n",
       " 'Indian',\n",
       " 'cultural',\n",
       " 'inheritance',\n",
       " '.',\n",
       " 'First',\n",
       " 'of',\n",
       " 'all',\n",
       " ',',\n",
       " 'I',\n",
       " 'visited',\n",
       " 'the',\n",
       " 'general',\n",
       " 'section',\n",
       " 'of',\n",
       " 'the',\n",
       " 'exhibition',\n",
       " 'where',\n",
       " 'different',\n",
       " 'charts',\n",
       " 'and',\n",
       " 'photographs',\n",
       " 'depicting',\n",
       " 'India',\n",
       " '’',\n",
       " 's',\n",
       " 'development',\n",
       " 'in',\n",
       " 'various',\n",
       " 'fields',\n",
       " 'were',\n",
       " 'set',\n",
       " '.',\n",
       " 'Most',\n",
       " 'impressive',\n",
       " 'photographs',\n",
       " 'among',\n",
       " 'these',\n",
       " 'were',\n",
       " 'those',\n",
       " 'showing',\n",
       " 'India',\n",
       " '’',\n",
       " 's',\n",
       " 'nuclear',\n",
       " 'development',\n",
       " '.',\n",
       " 'The',\n",
       " 'second',\n",
       " 'section',\n",
       " 'dealt',\n",
       " 'with',\n",
       " 'India',\n",
       " '’',\n",
       " 's',\n",
       " 'magnificent',\n",
       " 'historical',\n",
       " 'background',\n",
       " '.',\n",
       " 'I',\n",
       " 'was',\n",
       " 'fascinated',\n",
       " 'by',\n",
       " 'the',\n",
       " 'pictures',\n",
       " 'of',\n",
       " 'Mohanjodaro',\n",
       " 'excavation',\n",
       " '.',\n",
       " 'Then',\n",
       " 'I',\n",
       " 'saw',\n",
       " 'the',\n",
       " 'most',\n",
       " 'beautiful',\n",
       " 'and',\n",
       " 'colorful',\n",
       " 'section',\n",
       " 'of',\n",
       " 'the',\n",
       " 'exhibition',\n",
       " 'i.e',\n",
       " '.',\n",
       " 'the',\n",
       " 'cultural',\n",
       " 'section',\n",
       " '.',\n",
       " 'It',\n",
       " 'consisted',\n",
       " 'of',\n",
       " 'paintings',\n",
       " ',',\n",
       " 'sculptures',\n",
       " ',',\n",
       " 'photographs',\n",
       " 'etc',\n",
       " '.',\n",
       " 'The',\n",
       " 'Rajasthani',\n",
       " 'and',\n",
       " 'Gujarati',\n",
       " 'paintings',\n",
       " 'were',\n",
       " 'very',\n",
       " 'colourful',\n",
       " 'and',\n",
       " 'attractive',\n",
       " '.',\n",
       " 'This',\n",
       " 'exhibition',\n",
       " ',',\n",
       " 'inaugurated',\n",
       " 'by',\n",
       " 'the',\n",
       " 'Prime',\n",
       " 'Minister',\n",
       " ',',\n",
       " 'lasted',\n",
       " 'for',\n",
       " 'a',\n",
       " 'week',\n",
       " '.',\n",
       " 'It',\n",
       " 'proved',\n",
       " 'to',\n",
       " 'be',\n",
       " 'of',\n",
       " 'great',\n",
       " 'educational',\n",
       " 'value',\n",
       " '.',\n",
       " 'It',\n",
       " 'brushed',\n",
       " 'up',\n",
       " 'my',\n",
       " 'knowledge',\n",
       " 'about',\n",
       " 'India',\n",
       " 'as',\n",
       " 'my',\n",
       " 'motherland',\n",
       " '.',\n",
       " 'It',\n",
       " 'enhanced',\n",
       " 'my',\n",
       " 'respect',\n",
       " 'for',\n",
       " 'my',\n",
       " 'great',\n",
       " 'country',\n",
       " ',',\n",
       " 'India',\n",
       " '.',\n",
       " 'I',\n",
       " 'would',\n",
       " 'very',\n",
       " 'much',\n",
       " 'appreciate',\n",
       " 'if',\n",
       " 'the',\n",
       " 'Indian',\n",
       " 'government',\n",
       " 'organized',\n",
       " 'some',\n",
       " 'more',\n",
       " 'such',\n",
       " 'exhibitions',\n",
       " '.']"
      ]
     },
     "execution_count": 9,
     "metadata": {},
     "output_type": "execute_result"
    }
   ],
   "source": [
    "words"
   ]
  },
  {
   "cell_type": "markdown",
   "metadata": {},
   "source": [
    "### Stemming"
   ]
  },
  {
   "cell_type": "code",
   "execution_count": 6,
   "metadata": {},
   "outputs": [],
   "source": [
    "from nltk.stem import PorterStemmer\n",
    "from nltk.corpus import stopwords"
   ]
  },
  {
   "cell_type": "code",
   "execution_count": 8,
   "metadata": {},
   "outputs": [],
   "source": [
    "stemmer=PorterStemmer()\n"
   ]
  },
  {
   "cell_type": "code",
   "execution_count": 13,
   "metadata": {},
   "outputs": [
    {
     "name": "stdout",
     "output_type": "stream",
     "text": [
      "recent , exhibit ‘ build A new india ’ held capit .\n",
      "It organ ministri inform broadcast , govern india .\n",
      "exhibit set triveni kala sangam .\n",
      "chief exhibit photograph , novel , sculptur indian modern artist present indian cultur inherit .\n",
      "first , I visit gener section exhibit differ chart photograph depict india ’ develop variou field set .\n",
      "impress photograph among show india ’ nuclear develop .\n",
      "second section dealt india ’ magnif histor background .\n",
      "I fascin pictur mohanjodaro excav .\n",
      "I saw beauti color section exhibit i.e .\n",
      "cultur section .\n",
      "It consist paint , sculptur , photograph etc .\n",
      "rajasthani gujarati paint colour attract .\n",
      "thi exhibit , inaugur prime minist , last week .\n",
      "It prove great educ valu .\n",
      "It brush knowledg india motherland .\n",
      "It enhanc respect great countri , india .\n",
      "I would much appreci indian govern organ exhibit .\n"
     ]
    }
   ],
   "source": [
    "for i in range(len(sentence)):\n",
    "    words=nltk.word_tokenize(sentence[i])\n",
    "    words=[stemmer.stem(word) for word in words if word not in set(stopwords.words(\"english\"))]\n",
    "    sentence[i]=\" \".join(words)\n",
    "    print(sentence[i])"
   ]
  },
  {
   "cell_type": "markdown",
   "metadata": {},
   "source": [
    "### Lemmatization"
   ]
  },
  {
   "cell_type": "code",
   "execution_count": 14,
   "metadata": {},
   "outputs": [],
   "source": [
    "from nltk.stem import WordNetLemmatizer"
   ]
  },
  {
   "cell_type": "code",
   "execution_count": 15,
   "metadata": {},
   "outputs": [],
   "source": [
    "lemmatizer=WordNetLemmatizer()"
   ]
  },
  {
   "cell_type": "code",
   "execution_count": 19,
   "metadata": {},
   "outputs": [
    {
     "name": "stdout",
     "output_type": "stream",
     "text": [
      "Recently , exhibition ‘ Building A New India ’ held capital .\n",
      "It organized Ministry Information Broadcasting , Government India .\n",
      "The exhibition set Triveni Kala Sangam .\n",
      "The chief exhibit photograph , novel , sculpture Indian modern artist presenting Indian cultural inheritance .\n",
      "First , I visited general section exhibition different chart photograph depicting India ’ development various field set .\n",
      "Most impressive photograph among showing India ’ nuclear development .\n",
      "The second section dealt India ’ magnificent historical background .\n",
      "I fascinated picture Mohanjodaro excavation .\n",
      "Then I saw beautiful colorful section exhibition i.e .\n",
      "cultural section .\n",
      "It consisted painting , sculpture , photograph etc .\n",
      "The Rajasthani Gujarati painting colourful attractive .\n",
      "This exhibition , inaugurated Prime Minister , lasted week .\n",
      "It proved great educational value .\n",
      "It brushed knowledge India motherland .\n",
      "It enhanced respect great country , India .\n",
      "I would much appreciate Indian government organized exhibition .\n"
     ]
    }
   ],
   "source": [
    "for i in range(len(sentence)):\n",
    "    words=nltk.word_tokenize(sentence[i])\n",
    "    words=[lemmatizer.lemmatize(word) for word in words if word not in set(stopwords.words(\"english\"))]\n",
    "    sentence[i]=\" \".join(words)\n",
    "    print(sentence[i])"
   ]
  },
  {
   "cell_type": "code",
   "execution_count": null,
   "metadata": {},
   "outputs": [],
   "source": []
  }
 ],
 "metadata": {
  "kernelspec": {
   "display_name": "Python 3",
   "language": "python",
   "name": "python3"
  },
  "language_info": {
   "codemirror_mode": {
    "name": "ipython",
    "version": 3
   },
   "file_extension": ".py",
   "mimetype": "text/x-python",
   "name": "python",
   "nbconvert_exporter": "python",
   "pygments_lexer": "ipython3",
   "version": "3.7.6"
  }
 },
 "nbformat": 4,
 "nbformat_minor": 4
}
